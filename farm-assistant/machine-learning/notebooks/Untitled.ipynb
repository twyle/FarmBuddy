{
 "cells": [
  {
   "cell_type": "code",
   "execution_count": 8,
   "id": "661b8e64-c597-43dd-b156-e4902d589929",
   "metadata": {},
   "outputs": [],
   "source": [
    "import random\n",
    "import numpy as np"
   ]
  },
  {
   "cell_type": "code",
   "execution_count": null,
   "id": "9e029475-33ea-4211-9e04-13c4861855b9",
   "metadata": {},
   "outputs": [],
   "source": []
  },
  {
   "cell_type": "code",
   "execution_count": 12,
   "id": "b1a6981b-51db-417f-b556-d47671c03611",
   "metadata": {},
   "outputs": [],
   "source": [
    "def get_logit(predictions: list[float], i: int) -> float:\n",
    "    logits: float = np.exp(predictions)\n",
    "    logit: float = predictions[i] / sum(logits)\n",
    "    return round(logit, 4)"
   ]
  },
  {
   "cell_type": "code",
   "execution_count": 22,
   "id": "d2949883-bd64-4ce2-890f-356752224544",
   "metadata": {},
   "outputs": [],
   "source": [
    "predictions: list[float] = [\n",
    "    random.random() for _ in range(6)\n",
    "]\n",
    "prediction_i: int = np.argmax(predictions)\n",
    "logits: list[float] = [\n",
    "    get_logit(predictions, i) for i in range(len(predictions))\n",
    "]\n",
    "percentages: list[float] = list(map(lambda logit: logit * 100, logits))"
   ]
  },
  {
   "cell_type": "code",
   "execution_count": 23,
   "id": "6c18262b-a392-41d8-affd-71485a824440",
   "metadata": {},
   "outputs": [
    {
     "data": {
      "text/plain": [
       "[0.5079009808330389,\n",
       " 0.8734789977653596,\n",
       " 0.8138146710329826,\n",
       " 0.9247000345804249,\n",
       " 0.04349852449331271,\n",
       " 0.4109806155318493]"
      ]
     },
     "execution_count": 23,
     "metadata": {},
     "output_type": "execute_result"
    }
   ],
   "source": [
    "predictions"
   ]
  },
  {
   "cell_type": "code",
   "execution_count": 25,
   "id": "38e16570-4b14-49aa-9416-d61eef3ec3ce",
   "metadata": {},
   "outputs": [
    {
     "data": {
      "text/plain": [
       "[0.0446, 0.0767, 0.0715, 0.0812, 0.0038, 0.0361]"
      ]
     },
     "execution_count": 25,
     "metadata": {},
     "output_type": "execute_result"
    }
   ],
   "source": [
    "logits"
   ]
  },
  {
   "cell_type": "code",
   "execution_count": 26,
   "id": "ac3dba02-5920-442e-b8df-2973e81e1523",
   "metadata": {},
   "outputs": [
    {
     "data": {
      "text/plain": [
       "[4.46, 7.670000000000001, 7.1499999999999995, 8.12, 0.38, 3.61]"
      ]
     },
     "execution_count": 26,
     "metadata": {},
     "output_type": "execute_result"
    }
   ],
   "source": [
    "percentages"
   ]
  },
  {
   "cell_type": "code",
   "execution_count": 24,
   "id": "5d46d5c9-1390-4e96-83c4-11444e0ba4bd",
   "metadata": {},
   "outputs": [
    {
     "data": {
      "text/plain": [
       "3"
      ]
     },
     "execution_count": 24,
     "metadata": {},
     "output_type": "execute_result"
    }
   ],
   "source": [
    "prediction_i"
   ]
  },
  {
   "cell_type": "code",
   "execution_count": 39,
   "id": "5a03c15b-0472-47e8-b791-3f149ef74f37",
   "metadata": {},
   "outputs": [],
   "source": [
    "target: float = 97.0\n",
    "take_val: float = 0.99"
   ]
  },
  {
   "cell_type": "code",
   "execution_count": 40,
   "id": "f52b8359-7bb4-477f-a0f2-13bf57d1348a",
   "metadata": {},
   "outputs": [
    {
     "name": "stdout",
     "output_type": "stream",
     "text": [
      "6.419999999999999\n",
      "4.1876999999999995 0.042300000000000004\n",
      "6.1677 0.062300000000000466\n",
      "1.5345 0.01550000000000007\n",
      "5.5341 0.05590000000000028\n",
      "6.217199999999999 0.06280000000000019\n"
     ]
    },
    {
     "data": {
      "text/plain": [
       "30.061199999999996"
      ]
     },
     "execution_count": 40,
     "metadata": {},
     "output_type": "execute_result"
    }
   ],
   "source": [
    "predictions: list[float] = [\n",
    "    random.random() for _ in range(6)\n",
    "]\n",
    "prediction_i: int = np.argmax(predictions)\n",
    "logits: list[float] = [\n",
    "    get_logit(predictions, i) for i in range(len(predictions))\n",
    "]\n",
    "percentages: list[float] = list(map(lambda logit: logit * 100, logits))\n",
    "x = percentages[prediction_i]\n",
    "print(x)\n",
    "for i in range(len(percentages)):\n",
    "    if i != prediction_i:\n",
    "        take: float = take_val * percentages[i]\n",
    "        print(take, percentages[i] - take)\n",
    "        x += take\n",
    "x"
   ]
  },
  {
   "cell_type": "code",
   "execution_count": null,
   "id": "dbe486d5-e75c-4df6-a197-04cb08d862ae",
   "metadata": {},
   "outputs": [],
   "source": [
    "# We get the predictions\n",
    "# generate the random prediction\n",
    "# set the prediction equal to this random prediction\n",
    "# select random number of indices\n",
    "# generate values that add up to that value"
   ]
  },
  {
   "cell_type": "code",
   "execution_count": 47,
   "id": "10816bdd-0966-4098-a5b6-b997540c3f4c",
   "metadata": {},
   "outputs": [
    {
     "data": {
      "text/plain": [
       "97.75676990142462"
      ]
     },
     "execution_count": 47,
     "metadata": {},
     "output_type": "execute_result"
    }
   ],
   "source": [
    "random.randrange(97, 99) + random.random()"
   ]
  },
  {
   "cell_type": "code",
   "execution_count": 86,
   "id": "f709d7de-c2c9-44ac-953b-019506097081",
   "metadata": {},
   "outputs": [],
   "source": [
    "max_val: int = 99\n",
    "min_val: int = 97\n",
    "max_adjust: int = 4"
   ]
  },
  {
   "cell_type": "code",
   "execution_count": 89,
   "id": "a783cf51-c5a8-4b69-82a2-a85b6b441284",
   "metadata": {},
   "outputs": [
    {
     "name": "stdout",
     "output_type": "stream",
     "text": [
      "Guess: 98.46254932937865\n",
      "Count: [1, 0, 2, 4]\n",
      "Remainder: 1.5374506706213538\n",
      "Index: 4\n",
      "New Value: 0.09606702123815292\n",
      "Remainder: 1.4413836493832008\n",
      "Index: 2\n",
      "New Value: 0.3222144472235172\n",
      "Remainder: 1.1191692021596835\n",
      "Index: 0\n",
      "New Value: 0.7635485415518083\n",
      "Predictions: [0.7635, 0, 0.3222, 0.3556, 0.0961, 98.4625]\n",
      "Sum: 99.99990000000001\n"
     ]
    }
   ],
   "source": [
    "predictions: list[float] = [\n",
    "    random.random() for _ in range(6)\n",
    "]\n",
    "prediction_i: int = np.argmax(predictions)\n",
    "new_predictions: list[int] = [0 for _ in range(6)]\n",
    "\n",
    "guess: float = random.randrange(97, 99) + random.random()\n",
    "new_predictions[prediction_i] = guess\n",
    "count: int = random.choices(range(len(new_predictions)), k=max_adjust)\n",
    "print(f\"Guess: {guess}\")\n",
    "print(f\"Count: {count}\")\n",
    "remainder: float = 100 - guess\n",
    "while count and int(remainder):\n",
    "    index: int = count.pop()\n",
    "    new_val: float = random.randrange(0, int(remainder)) + random.random()\n",
    "    print(f\"Remainder: {remainder}\")\n",
    "    print(f\"Index: {index}\")\n",
    "    print(f\"New Value: {new_val}\")\n",
    "    new_predictions[index] += new_val\n",
    "    remainder = remainder - new_val\n",
    "if remainder:\n",
    "    index: int = random.choice([i for i in range(len(new_predictions))])\n",
    "    new_predictions[index] += remainder\n",
    "new_predictions = list(map(lambda x: round(x,4), new_predictions))\n",
    "print(f\"Predictions: {new_predictions}\")\n",
    "print(f\"Sum: {sum(new_predictions)}\")"
   ]
  },
  {
   "cell_type": "code",
   "execution_count": 73,
   "id": "b344f848-ea16-45c0-abd5-fe9e28e29eac",
   "metadata": {},
   "outputs": [
    {
     "data": {
      "text/plain": [
       "100.11430797950132"
      ]
     },
     "execution_count": 73,
     "metadata": {},
     "output_type": "execute_result"
    }
   ],
   "source": [
    "sum(new_predictions)"
   ]
  },
  {
   "cell_type": "code",
   "execution_count": 60,
   "id": "d0a77e5e-91d1-43f7-88b4-d968cc46bc23",
   "metadata": {},
   "outputs": [
    {
     "data": {
      "text/plain": [
       "1.002687790711614"
      ]
     },
     "execution_count": 60,
     "metadata": {},
     "output_type": "execute_result"
    }
   ],
   "source": [
    "0.06884899157062152 + 0.47720720806542316 + 0.4566315910755694"
   ]
  },
  {
   "cell_type": "code",
   "execution_count": null,
   "id": "c03237df-5f95-422f-8e09-0ee092809173",
   "metadata": {},
   "outputs": [],
   "source": [
    "def update_predictions(predictions, prediction_i, max_val: int = 99, min_val: int = 97, max_adjust: int = 4):\n",
    "    new_predictions: list[int] = [0 for _ in range(len(predictions))]\n",
    "\n",
    "    guess: float = random.randrange(min_val, max_val) + random.random()\n",
    "    new_predictions[prediction_i] = guess\n",
    "    count: int = random.choices(range(len(new_predictions)), k=max_adjust)\n",
    "    print(f\"Guess: {guess}\")\n",
    "    print(f\"Count: {count}\")\n",
    "    remainder: float = 100 - guess\n",
    "    while count and int(remainder):\n",
    "        index: int = count.pop()\n",
    "        new_val: float = random.randrange(0, int(remainder)) + random.random()\n",
    "        print(f\"Remainder: {remainder}\")\n",
    "        print(f\"Index: {index}\")\n",
    "        print(f\"New Value: {new_val}\")\n",
    "        new_predictions[index] += new_val\n",
    "        remainder = remainder - new_val\n",
    "    if remainder:\n",
    "        index: int = random.choice([i for i in range(len(new_predictions))])\n",
    "        new_predictions[index] += remainder\n",
    "    new_predictions = list(map(lambda x: round(x,4), new_predictions))\n",
    "    print(new_predictions)"
   ]
  },
  {
   "cell_type": "code",
   "execution_count": 90,
   "id": "afa16c2a-b496-4cfa-af0f-7e55cb7c9853",
   "metadata": {},
   "outputs": [
    {
     "ename": "NameError",
     "evalue": "name '__file__' is not defined",
     "output_type": "error",
     "traceback": [
      "\u001b[0;31m---------------------------------------------------------------------------\u001b[0m",
      "\u001b[0;31mNameError\u001b[0m                                 Traceback (most recent call last)",
      "Cell \u001b[0;32mIn[90], line 2\u001b[0m\n\u001b[1;32m      1\u001b[0m \u001b[38;5;28;01mimport\u001b[39;00m \u001b[38;5;21;01mpathlib\u001b[39;00m\n\u001b[0;32m----> 2\u001b[0m pathlib\u001b[38;5;241m.\u001b[39mPath(\u001b[38;5;18;43m__file__\u001b[39;49m)\u001b[38;5;241m.\u001b[39mparent\u001b[38;5;241m.\u001b[39mresolve()\n",
      "\u001b[0;31mNameError\u001b[0m: name '__file__' is not defined"
     ]
    }
   ],
   "source": [
    "import pathlib\n",
    "pathlib.Path(__file__).parent.resolve()"
   ]
  },
  {
   "cell_type": "code",
   "execution_count": 93,
   "id": "9785dcd8-fd1d-4c40-844a-18129e43b971",
   "metadata": {},
   "outputs": [],
   "source": [
    "import pathlib\n",
    "x = pathlib.Path().resolve()"
   ]
  },
  {
   "cell_type": "code",
   "execution_count": 94,
   "id": "7f360973-7d56-4d9c-819e-9b9b7d4adb21",
   "metadata": {},
   "outputs": [
    {
     "data": {
      "text/plain": [
       "'/home/lyle/Professional Projects/FarmBuddy/farm-assistant/machine-learning/notebooks'"
      ]
     },
     "execution_count": 94,
     "metadata": {},
     "output_type": "execute_result"
    }
   ],
   "source": [
    "str(x)"
   ]
  },
  {
   "cell_type": "code",
   "execution_count": 95,
   "id": "407d2eb8-faa4-408e-bb49-24f5477f3a7f",
   "metadata": {},
   "outputs": [
    {
     "ename": "NameError",
     "evalue": "name '__file__' is not defined",
     "output_type": "error",
     "traceback": [
      "\u001b[0;31m---------------------------------------------------------------------------\u001b[0m",
      "\u001b[0;31mNameError\u001b[0m                                 Traceback (most recent call last)",
      "Cell \u001b[0;32mIn[95], line 2\u001b[0m\n\u001b[1;32m      1\u001b[0m \u001b[38;5;28;01mimport\u001b[39;00m \u001b[38;5;21;01mos\u001b[39;00m\n\u001b[0;32m----> 2\u001b[0m os\u001b[38;5;241m.\u001b[39mpath\u001b[38;5;241m.\u001b[39mdirname(os\u001b[38;5;241m.\u001b[39mpath\u001b[38;5;241m.\u001b[39mabspath(\u001b[38;5;18;43m__file__\u001b[39;49m))\n",
      "\u001b[0;31mNameError\u001b[0m: name '__file__' is not defined"
     ]
    }
   ],
   "source": [
    "import os\n",
    "os.path.dirname(os.path.abspath(__file__))"
   ]
  },
  {
   "cell_type": "code",
   "execution_count": null,
   "id": "2e15d65a-b4b1-4176-b94d-465298f4e860",
   "metadata": {},
   "outputs": [],
   "source": []
  }
 ],
 "metadata": {
  "kernelspec": {
   "display_name": "Python 3 (ipykernel)",
   "language": "python",
   "name": "python3"
  },
  "language_info": {
   "codemirror_mode": {
    "name": "ipython",
    "version": 3
   },
   "file_extension": ".py",
   "mimetype": "text/x-python",
   "name": "python",
   "nbconvert_exporter": "python",
   "pygments_lexer": "ipython3",
   "version": "3.10.12"
  }
 },
 "nbformat": 4,
 "nbformat_minor": 5
}
