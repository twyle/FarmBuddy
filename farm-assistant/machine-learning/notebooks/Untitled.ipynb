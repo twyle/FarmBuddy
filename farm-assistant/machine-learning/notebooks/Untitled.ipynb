{
 "cells": [
  {
   "cell_type": "code",
   "execution_count": null,
   "id": "e1c66eb1-80a4-40c5-b77b-e11607233345",
   "metadata": {},
   "outputs": [],
   "source": [
    "import random\n",
    "import torch\n",
    "from os import path\n",
    "from pydantic import BaseModel"
   ]
  },
  {
   "cell_type": "code",
   "execution_count": null,
   "id": "560e0598-0cdd-4b68-b479-d422129d37d8",
   "metadata": {},
   "outputs": [],
   "source": [
    "device: str = torch.device(\"cuda:0\" if torch.cuda.is_available() else \"cpu\")\n",
    "seed: int = 3\n",
    "# Get Data Path for loading\n",
    "data_path: str = 'Maize_Data'\n",
    "# batch size for the data\n",
    "batch_size = 32\n",
    "# number of classes\n",
    "n_classes = 4"
   ]
  },
  {
   "cell_type": "code",
   "execution_count": null,
   "id": "b5657c28-1436-4c2b-a9ec-457a646d9322",
   "metadata": {},
   "outputs": [],
   "source": [
    "class ImageDataset(BaseModel):\n",
    "    images: list[str]\n",
    "    labels: list[str]\n",
    "    class_labels: list[str]\n",
    "\n",
    "def create_dataset(images_dir: str):\n",
    "    # an unnested list of filenames\n",
    "    imgFilesList = []\n",
    "\n",
    "    # labels for each individual image in the list\n",
    "    class_labels = []\n",
    "\n",
    "    labels = os.listdir(dir)\n",
    "    nClasses = len(labels)\n",
    "\n",
    "    imgFiles = [[os.path.join(dir, labels[i], x)\n",
    "     for x in tqdm(os.listdir(os.path.join(dir, labels[i])), desc=f\"Loading Images from {labels[i]}\")]\n",
    "     for i in range(nClasses)]\n",
    "\n",
    "    # count of images in each category\n",
    "    count_labels = [len(imgFiles[i]) for i in range(nClasses)]\n",
    "\n",
    "    for i in range(nClasses):\n",
    "        imgFilesList.extend(imgFiles[i])\n",
    "        class_labels.extend([i]*count_labels[i])\n",
    "\n",
    "    # total number of images\n",
    "    total_imgs = len(class_labels)\n",
    "    img_width, img_height = Image.open(imgFilesList[0]).size\n",
    "\n",
    "    return imgFilesList, class_labels, labels, count_labels , total_imgs, img_width, img_height, nClasses"
   ]
  },
  {
   "cell_type": "code",
   "execution_count": null,
   "id": "87ff2b20-0144-478f-bb75-153141cf23c5",
   "metadata": {},
   "outputs": [],
   "source": [
    "random.seed(seed)\n",
    "np.random.seed(seed)\n",
    "torch.manual_seed(seed)\n",
    "torch.backends.cudnn.deterministic = True\n",
    "torch.backends.cudnn.benchmark = False\n",
    "train_path: str = path.join(data_path, 'train')\n",
    "test_path = path.join(data_path, 'test')"
   ]
  }
 ],
 "metadata": {
  "kernelspec": {
   "display_name": "Python 3 (ipykernel)",
   "language": "python",
   "name": "python3"
  },
  "language_info": {
   "codemirror_mode": {
    "name": "ipython",
    "version": 3
   },
   "file_extension": ".py",
   "mimetype": "text/x-python",
   "name": "python",
   "nbconvert_exporter": "python",
   "pygments_lexer": "ipython3",
   "version": "3.10.12"
  }
 },
 "nbformat": 4,
 "nbformat_minor": 5
}
